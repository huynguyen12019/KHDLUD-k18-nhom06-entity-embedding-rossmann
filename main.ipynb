{
  "cells": [
    {
      "cell_type": "markdown",
      "metadata": {
        "id": "view-in-github",
        "colab_type": "text"
      },
      "source": [
        "<a href=\"https://colab.research.google.com/github/huynguyen12019/KHDLUD-k18-nhom06-entity-embedding-rossmann/blob/main/main.ipynb\" target=\"_parent\"><img src=\"https://colab.research.google.com/assets/colab-badge.svg\" alt=\"Open In Colab\"/></a>"
      ]
    },
    {
      "cell_type": "markdown",
      "source": [
        "# Báo cáo đồ án môn \"Khoa học dữ liệu ứng dụng\"\n",
        "\n",
        "Nhóm 6:\n",
        "1. 1712496 - Nguyễn Trần Công Huy - huynguyen1999\n",
        "2. 1712497 - Nguyễn Văn Huy - huynguyen12019\n",
        "3. 1712502 - Trần Quang Huy - tranquanghuy12\n",
        "4. 1712568 - Kim Đình Lộc - kimdinhloc\n",
        "\n",
        "Link thùng chứa Github của nhóm: https://github.com/huynguyen12019/KHDLUD-k18-nhom06-entity-embedding-rossmann"
      ],
      "metadata": {
        "id": "FRE4hXaXq6BX"
      }
    },
    {
      "cell_type": "markdown",
      "metadata": {
        "id": "6tyCRNX5dPKV"
      },
      "source": [
        "# Mô tả bài toán\n",
        "\n"
      ]
    },
    {
      "cell_type": "markdown",
      "metadata": {
        "id": "SRiHzBpYgEOk"
      },
      "source": [
        "Bài toán **Rossmann Store Sales** nhằm mục đích dự đoán doanh số bán hàng bằng cách sử dụng dữ liệu cửa hàng, khuyến mãi và đối thủ cạnh tranh.\n",
        "\n",
        "**Link cuộc thi:** https://www.kaggle.com/c/rossmann-store-sales/overview\n",
        "\n",
        "**Vấn đề:** Rossmann điều hành hơn 3.000 cửa hàng thuốc tại 7 quốc gia châu Âu. Hiện tại, những người quản lý cửa hàng Rossmann được giao nhiệm vụ dự đoán doanh số hàng ngày các cửa hàng của họ trước tối đa 6 tuần. Doanh số bán hàng của cửa hàng (Sales) bị ảnh hưởng bởi nhiều yếu tố, bao gồm khuyến mãi, cạnh tranh, ngày lễ của trường và tiểu bang, thời vụ và địa phương.\n"
      ]
    },
    {
      "cell_type": "markdown",
      "metadata": {
        "id": "9qAUHKMRnNXQ"
      },
      "source": [
        "# Giải quyết bài toán"
      ]
    },
    {
      "cell_type": "markdown",
      "metadata": {
        "id": "DFbKXAdGnRpV"
      },
      "source": [
        "Trong đồ án này, nhóm tìm hiểu và cài đặt lại phương pháp của nhóm **Neokami Inc** đạt hạng 3 trên Private Leaderboard.  \n",
        "**Bài giải được tác giả upload trên github, tác giả không giải thích về lý do chọn các feature hay model trong bài toán**  \n",
        "  \n",
        "**Github:** https://github.com/entron/entity-embedding-rossmann/tree/kaggle\n",
        "\n",
        "**Mô tả:**  \n",
        "Ngoài dữ liệu được cung cấp thì tác giả đã sử dụng các dữ liệu bên ngoài như google trend, dữ liệu về thời tiết với mục đích tăng khả năng dự đoán chính xác hơn của bài toán.\n",
        "\n",
        "Giải pháp của tác giả dựa trên việc ánh xạ các biến phân loại trong một bài toán xấp xỉ hàm vào các không gian Euclide - được gọi là thực thể nhúng (entity embeddings) của các biến phân loại.\n",
        "\n",
        "* Entity Embeddings không chỉ làm giảm mức sử dụng bộ nhớ và tăng tốc mạng neural so với one-hot encoding, nhưng quan trọng hơn là bằng cách ánh xạ các giá trị tương tự nhau trong không gian nhúng, nó tiết lộ các thuộc tính nội tại của các biến phân loại.\n",
        "* Các embedding thu được từ mạng neural có khả năng tăng hiệu suất của các phương pháp học máy khi được sử dụng làm các tính năng đầu vào thay thế.\n"
      ]
    },
    {
      "cell_type": "markdown",
      "source": [
        "**Ví dụ về entity embeddings**  \n",
        "<img src=\"https://miro.medium.com/max/3600/0*faiD9ZV2gpbplWEF.png\" width=\"700\"/>"
      ],
      "metadata": {
        "id": "0ZN_DuE96zTj"
      }
    },
    {
      "cell_type": "markdown",
      "metadata": {
        "id": "EFUGDT1OSFin"
      },
      "source": [
        "# **1. Load dữ liệu**"
      ]
    },
    {
      "cell_type": "markdown",
      "source": [
        "**Install các thư viện cần thiết**"
      ],
      "metadata": {
        "id": "QRmklqueeP4A"
      }
    },
    {
      "cell_type": "code",
      "source": [
        "!pip install TensorFlow-gpu==1.15.0\n",
        "!pip install Keras==1.2.2"
      ],
      "metadata": {
        "id": "ah3peMC6bRmV"
      },
      "execution_count": null,
      "outputs": []
    },
    {
      "cell_type": "code",
      "execution_count": null,
      "metadata": {
        "id": "7n2Fm9cnaIxL",
        "colab": {
          "base_uri": "https://localhost:8080/"
        },
        "outputId": "f4e0e1ca-e4a1-494d-b41c-19bc687d1f0b"
      },
      "outputs": [
        {
          "output_type": "stream",
          "name": "stdout",
          "text": [
            "Collecting pickle5\n",
            "  Downloading pickle5-0.0.12-cp37-cp37m-manylinux_2_5_x86_64.manylinux1_x86_64.whl (256 kB)\n",
            "\u001b[?25l\r\u001b[K     |█▎                              | 10 kB 17.8 MB/s eta 0:00:01\r\u001b[K     |██▋                             | 20 kB 20.2 MB/s eta 0:00:01\r\u001b[K     |███▉                            | 30 kB 22.4 MB/s eta 0:00:01\r\u001b[K     |█████▏                          | 40 kB 24.2 MB/s eta 0:00:01\r\u001b[K     |██████▍                         | 51 kB 12.2 MB/s eta 0:00:01\r\u001b[K     |███████▊                        | 61 kB 9.5 MB/s eta 0:00:01\r\u001b[K     |█████████                       | 71 kB 5.4 MB/s eta 0:00:01\r\u001b[K     |██████████▎                     | 81 kB 6.0 MB/s eta 0:00:01\r\u001b[K     |███████████▌                    | 92 kB 6.6 MB/s eta 0:00:01\r\u001b[K     |████████████▉                   | 102 kB 7.1 MB/s eta 0:00:01\r\u001b[K     |██████████████                  | 112 kB 7.1 MB/s eta 0:00:01\r\u001b[K     |███████████████▍                | 122 kB 7.1 MB/s eta 0:00:01\r\u001b[K     |████████████████▋               | 133 kB 7.1 MB/s eta 0:00:01\r\u001b[K     |██████████████████              | 143 kB 7.1 MB/s eta 0:00:01\r\u001b[K     |███████████████████▏            | 153 kB 7.1 MB/s eta 0:00:01\r\u001b[K     |████████████████████▌           | 163 kB 7.1 MB/s eta 0:00:01\r\u001b[K     |█████████████████████▊          | 174 kB 7.1 MB/s eta 0:00:01\r\u001b[K     |███████████████████████         | 184 kB 7.1 MB/s eta 0:00:01\r\u001b[K     |████████████████████████▎       | 194 kB 7.1 MB/s eta 0:00:01\r\u001b[K     |█████████████████████████▋      | 204 kB 7.1 MB/s eta 0:00:01\r\u001b[K     |██████████████████████████▉     | 215 kB 7.1 MB/s eta 0:00:01\r\u001b[K     |████████████████████████████▏   | 225 kB 7.1 MB/s eta 0:00:01\r\u001b[K     |█████████████████████████████▍  | 235 kB 7.1 MB/s eta 0:00:01\r\u001b[K     |██████████████████████████████▊ | 245 kB 7.1 MB/s eta 0:00:01\r\u001b[K     |████████████████████████████████| 256 kB 7.1 MB/s eta 0:00:01\r\u001b[K     |████████████████████████████████| 256 kB 7.1 MB/s \n",
            "\u001b[?25hInstalling collected packages: pickle5\n",
            "Successfully installed pickle5-0.0.12\n",
            "Collecting isoweek\n",
            "  Downloading isoweek-1.3.3-py2.py3-none-any.whl (7.1 kB)\n",
            "Installing collected packages: isoweek\n",
            "Successfully installed isoweek-1.3.3\n"
          ]
        }
      ],
      "source": [
        "!pip install pickle5\n",
        "!pip install isoweek"
      ]
    },
    {
      "cell_type": "code",
      "execution_count": null,
      "metadata": {
        "id": "YRWzXXONSFit",
        "colab": {
          "base_uri": "https://localhost:8080/"
        },
        "outputId": "c19d1ad6-4495-4c34-ec72-38bdb2790fdb"
      },
      "outputs": [
        {
          "output_type": "stream",
          "name": "stderr",
          "text": [
            "Using TensorFlow backend.\n"
          ]
        }
      ],
      "source": [
        "import pickle\n",
        "import csv\n",
        "from random import shuffle\n",
        "import keras"
      ]
    },
    {
      "cell_type": "markdown",
      "source": [
        "**Clone file từ github**"
      ],
      "metadata": {
        "id": "USeWHYSdejFh"
      }
    },
    {
      "cell_type": "code",
      "execution_count": null,
      "metadata": {
        "id": "5JOey-MbaMIa",
        "colab": {
          "base_uri": "https://localhost:8080/"
        },
        "outputId": "bedd5941-7c58-4452-dc68-c698d1880a59"
      },
      "outputs": [
        {
          "output_type": "stream",
          "name": "stdout",
          "text": [
            "Cloning into 'KHDLUD-k18-nhom06-entity-embedding-rossmann'...\n",
            "remote: Enumerating objects: 161, done.\u001b[K\n",
            "remote: Counting objects: 100% (58/58), done.\u001b[K\n",
            "remote: Compressing objects: 100% (53/53), done.\u001b[K\n",
            "remote: Total 161 (delta 9), reused 32 (delta 4), pack-reused 103\u001b[K\n",
            "Receiving objects: 100% (161/161), 14.53 MiB | 16.60 MiB/s, done.\n",
            "Resolving deltas: 100% (27/27), done.\n"
          ]
        }
      ],
      "source": [
        "!git clone https://github.com/huynguyen12019/KHDLUD-k18-nhom06-entity-embedding-rossmann"
      ]
    },
    {
      "cell_type": "code",
      "execution_count": null,
      "metadata": {
        "id": "R57weLH5aNmS",
        "colab": {
          "base_uri": "https://localhost:8080/"
        },
        "outputId": "a64c4305-efd1-49b1-d077-78dfae1eb17f"
      },
      "outputs": [
        {
          "output_type": "stream",
          "name": "stdout",
          "text": [
            "/content/KHDLUD-k18-nhom06-entity-embedding-rossmann/source_code/data\n"
          ]
        }
      ],
      "source": [
        "%cd ./KHDLUD-k18-nhom06-entity-embedding-rossmann/source_code/data"
      ]
    },
    {
      "cell_type": "markdown",
      "metadata": {
        "id": "zJd57kU3SFiu"
      },
      "source": [
        "#### ***1.1 Tải và đánh giá dữ liệu về cửa hàng (store_data)***"
      ]
    },
    {
      "cell_type": "code",
      "execution_count": null,
      "metadata": {
        "id": "4G2qWvCBSFiv"
      },
      "outputs": [],
      "source": [
        "def csv2dicts(csvfile):\n",
        "    data = []\n",
        "    keys = []\n",
        "    for row_index, row in enumerate(csvfile):\n",
        "        if row_index == 0:\n",
        "            keys = row\n",
        "            print(row)\n",
        "            continue\n",
        "        # if row_index % 10000 == 0:\n",
        "        #     print(row_index)\n",
        "        data.append({key: value for key, value in zip(keys, row)})\n",
        "    return data\n",
        "\n",
        "\n",
        "def set_nan_as_string(data, replace_str='0'):\n",
        "    for i, x in enumerate(data):\n",
        "        for key, value in x.items():\n",
        "            if value == '':\n",
        "                x[key] = replace_str\n",
        "        data[i] = x\n"
      ]
    },
    {
      "cell_type": "markdown",
      "metadata": {
        "id": "e8DttF4KSFiv"
      },
      "source": [
        "##### Các data mà cuộc thi cung cấp"
      ]
    },
    {
      "cell_type": "code",
      "execution_count": null,
      "metadata": {
        "id": "lVwrow0vSFiw"
      },
      "outputs": [],
      "source": [
        "train_data = \"train.csv\"\n",
        "store_data = \"store.csv\"\n",
        "test_data = \"test.csv\""
      ]
    },
    {
      "cell_type": "code",
      "execution_count": null,
      "metadata": {
        "id": "Ak1qgFtlSFiw",
        "colab": {
          "base_uri": "https://localhost:8080/"
        },
        "outputId": "62f340ce-0b3a-4792-b20c-fbf08147ebdc"
      },
      "outputs": [
        {
          "output_type": "stream",
          "name": "stdout",
          "text": [
            "['Store', 'DayOfWeek', 'Date', 'Sales', 'Customers', 'Open', 'Promo', 'StateHoliday', 'SchoolHoliday']\n",
            "['Id', 'Store', 'DayOfWeek', 'Date', 'Open', 'Promo', 'StateHoliday', 'SchoolHoliday']\n",
            "['Store', 'StoreType', 'Assortment', 'CompetitionDistance', 'CompetitionOpenSinceMonth', 'CompetitionOpenSinceYear', 'Promo2', 'Promo2SinceWeek', 'Promo2SinceYear', 'PromoInterval']\n",
            "['Store', 'State']\n"
          ]
        }
      ],
      "source": [
        "with open(train_data) as csvfile:\n",
        "    data = csv.reader(csvfile, delimiter=',')\n",
        "\n",
        "    with open('train_data.pickle', 'wb') as f:\n",
        "        data = csv2dicts(data)\n",
        "        data = data[::-1]\n",
        "        train_data = data\n",
        "        pickle.dump(data, f, -1)\n",
        "        # print(data[:3])\n",
        "\n",
        "with open(test_data) as csvfile:\n",
        "    data = csv.reader(csvfile, delimiter=',')\n",
        "    with open('test_data.pickle', 'wb') as f:\n",
        "        data = csv2dicts(data)\n",
        "        test_data = data\n",
        "        pickle.dump(data, f, -1)\n",
        "        # print(data[0])\n",
        "store_states = 'store_states.csv'\n",
        "with open(store_data) as csvfile, open(store_states) as csvfile2:\n",
        "    data = csv.reader(csvfile, delimiter=',')\n",
        "    state_data = csv.reader(csvfile2, delimiter=',')\n",
        "    with open('store_data.pickle', 'wb') as f:\n",
        "        data = csv2dicts(data)\n",
        "        state_data = csv2dicts(state_data)\n",
        "        set_nan_as_string(data)\n",
        "        for index, val in enumerate(data):\n",
        "            state = state_data[index]\n",
        "            val['State'] = state['State']\n",
        "            data[index] = val\n",
        "        store_data = data\n",
        "        pickle.dump(data, f, -1)\n",
        "        # print(data[:2])"
      ]
    },
    {
      "cell_type": "markdown",
      "metadata": {
        "id": "1nGmknb0SFiy"
      },
      "source": [
        "##### Quan sát dữ liệu của tập train và test"
      ]
    },
    {
      "cell_type": "code",
      "execution_count": null,
      "metadata": {
        "id": "24aeQ5A2SFiz",
        "colab": {
          "base_uri": "https://localhost:8080/"
        },
        "outputId": "fe890988-613c-4cce-ac26-9ef33138b368"
      },
      "outputs": [
        {
          "output_type": "execute_result",
          "data": {
            "text/plain": [
              "[{'Customers': '0',\n",
              "  'Date': '2013-01-01',\n",
              "  'DayOfWeek': '2',\n",
              "  'Open': '0',\n",
              "  'Promo': '0',\n",
              "  'Sales': '0',\n",
              "  'SchoolHoliday': '1',\n",
              "  'StateHoliday': 'a',\n",
              "  'Store': '1115'},\n",
              " {'Customers': '0',\n",
              "  'Date': '2013-01-01',\n",
              "  'DayOfWeek': '2',\n",
              "  'Open': '0',\n",
              "  'Promo': '0',\n",
              "  'Sales': '0',\n",
              "  'SchoolHoliday': '1',\n",
              "  'StateHoliday': 'a',\n",
              "  'Store': '1114'}]"
            ]
          },
          "metadata": {},
          "execution_count": 9
        }
      ],
      "source": [
        "train_data[:2]"
      ]
    },
    {
      "cell_type": "markdown",
      "metadata": {
        "id": "Gh3c3s8FSFiz"
      },
      "source": [
        "- Nhận xét:\n",
        "  - Store: là id của mỗi cửa hàng\n",
        "  - DayofWeek: là thứ trong tuần\n",
        "  - Date: là ngày bán hàng\n",
        "  - Sales: là doanh thu trong ngày\n",
        "  - Customers: số lượng khách hàng trong ngày\n",
        "  - Open: cho biết nhà thuốc có mở cửa vào ngày đó không\n",
        "  - Promo: nhà thuốc có chạy quảng cáo vào ngày đó không\n",
        "  - StateHoliday: chỉ ra ngày nghỉ lễ (hầu hết các nhà thuốc sẽ đóng cửa trong những ngày này) [a = nghỉ lễ, b = lễ phục sinh, c = giáng sinh, 0 = Không]. \n",
        "  - SchoolHoliday: chỉ ra những ngày nghỉ lễ của trường có ảnh hưởng đến nhà thuốc vào ngày đấy hay là không "
      ]
    },
    {
      "cell_type": "markdown",
      "metadata": {
        "id": "OP8f4T35SFi0"
      },
      "source": [
        "##### Quan sát dữ liệu tập store_data"
      ]
    },
    {
      "cell_type": "code",
      "execution_count": null,
      "metadata": {
        "id": "e9GRog3YSFi0",
        "colab": {
          "base_uri": "https://localhost:8080/"
        },
        "outputId": "27f87f06-68f6-4173-b8c5-ab6e153d8838"
      },
      "outputs": [
        {
          "output_type": "execute_result",
          "data": {
            "text/plain": [
              "[{'Assortment': 'a',\n",
              "  'CompetitionDistance': '1270',\n",
              "  'CompetitionOpenSinceMonth': '9',\n",
              "  'CompetitionOpenSinceYear': '2008',\n",
              "  'Promo2': '0',\n",
              "  'Promo2SinceWeek': '0',\n",
              "  'Promo2SinceYear': '0',\n",
              "  'PromoInterval': '0',\n",
              "  'State': 'HE',\n",
              "  'Store': '1',\n",
              "  'StoreType': 'c'},\n",
              " {'Assortment': 'a',\n",
              "  'CompetitionDistance': '570',\n",
              "  'CompetitionOpenSinceMonth': '11',\n",
              "  'CompetitionOpenSinceYear': '2007',\n",
              "  'Promo2': '1',\n",
              "  'Promo2SinceWeek': '13',\n",
              "  'Promo2SinceYear': '2010',\n",
              "  'PromoInterval': 'Jan,Apr,Jul,Oct',\n",
              "  'State': 'TH',\n",
              "  'Store': '2',\n",
              "  'StoreType': 'a'}]"
            ]
          },
          "metadata": {},
          "execution_count": 10
        }
      ],
      "source": [
        "store_data[:2]"
      ]
    },
    {
      "cell_type": "markdown",
      "metadata": {
        "id": "SEqSdI_SSFi1"
      },
      "source": [
        "- Nhận xét:\n",
        "  - Store: là id của mỗi cửa hàng\n",
        "  - StoreType: mô loại hình nhà thuốc: a, b, c, d \n",
        "  - Assortment: cấp độ phân loại nhà thuốc: [a = basic, b = extra, c = extended]\n",
        "  - CompetitionDistance: khoảng cách đến nhà thuốc đối thủ gần nhất.\n",
        "  - CompetitionOpenSinceMonth: thời gian mà nhà thuốc đối thủ trên bắt đầu hoạt động (tháng).\n",
        "  - CompetitionOpenSinceYear: thời gian mà nhà thuốc đối thủ trên bắt đầu hoạt động (năm).\n",
        "  - Promo: chỉ ra liệu nhà thuốc có đang chạy quảng bá trong ngày đấy hay không. \n",
        "  - Promo2 -  chương trình quảng bá tiếp theo mà một số nhà thuốc tham gia: [0 = không tham gia, 1 = tham gia] \n",
        "  - Promo2Since[Year/Week] - thời điểm mà nhà thuốc bắt đầu tham gia hoạt động Promo2. \n",
        "  - PromoInterval - chỉ những tháng mà sự kiện Promo2 diễn ra trong năm. "
      ]
    },
    {
      "cell_type": "markdown",
      "metadata": {
        "id": "hl7Zgwk7SFi1"
      },
      "source": [
        "#### ***1.2 Tải và đánh giá dữ liệu về thời tiết***"
      ]
    },
    {
      "cell_type": "markdown",
      "metadata": {
        "id": "qCza8aoqSFi1"
      },
      "source": [
        "Các tập dữ liệu store_states, weather và google trend được chia sẻ trong nhóm của cuộc thi bởi dune_dweller, MCFG và Tobias Wolfanger."
      ]
    },
    {
      "cell_type": "markdown",
      "source": [
        "Tập dữ liệu gồm nhiều cột của nhiều bang khác nhau, nhưng ở đây thì chúng ta chỉ lấy vài cột của tập dữ liệu, chi tiết như sau:   \n",
        "Date: Ngày  \n",
        "Max_TemperatureC: Nhiết độ cao nhất   \n",
        "Mean_TemperatureC: Nhiệt độ trung bình   \n",
        "Min_TemperatureC: Nhiết độ thấp nhất  \n",
        "Max_Humidity: Độ ấm cao nhất  \n",
        "Mean_Humidity: Độ ẩm trung bình  \n",
        "Min_Humidity:  Độ ẩm thấp nhất  \n",
        "Max_Wind_SpeedKm_h: Tốc độ gió cao nhất  \n",
        "Mean_Wind_SpeedKm_h: Tốc độ gió trung bình  \n",
        "CloudCover: Độ phủ của mây  \n",
        "Events: events Thời tiết  \n",
        "Tất cả được chuẩn hoá normalize  "
      ],
      "metadata": {
        "id": "LVN42KPZe2J8"
      }
    },
    {
      "cell_type": "markdown",
      "metadata": {
        "id": "sMrYZQUUSFi2"
      },
      "source": [
        "\n",
        "##### Danh sách các khu vực thời tiết (weather)"
      ]
    },
    {
      "cell_type": "code",
      "execution_count": null,
      "metadata": {
        "id": "npGYGnliSFi2",
        "colab": {
          "base_uri": "https://localhost:8080/"
        },
        "outputId": "0acdab20-0b5c-40db-adf0-edbe3225f399"
      },
      "outputs": [
        {
          "output_type": "stream",
          "name": "stdout",
          "text": [
            "['Sachsen', 'Thueringen', 'Berlin', 'Hessen', 'Brandenburg', 'SachsenAnhalt', 'Bayern', 'Hamburg', 'NordrheinWestfalen', 'RheinlandPfalz', 'SchleswigHolstein', 'Bremen', 'Saarland', 'BadenWuerttemberg', 'MecklenburgVorpommern', 'Niedersachsen']\n"
          ]
        }
      ],
      "source": [
        "import os\n",
        "f = []\n",
        "for _,_,filenames in os.walk(\"./weather/\"):\n",
        "    print([i[:-4] for i in filenames])\n",
        "    break"
      ]
    },
    {
      "cell_type": "markdown",
      "metadata": {
        "id": "bt4UOa-2SFi2"
      },
      "source": [
        "##### Quan sát data của weather"
      ]
    },
    {
      "cell_type": "code",
      "execution_count": null,
      "metadata": {
        "id": "UrDmc1Z1SFi2"
      },
      "outputs": [],
      "source": [
        "data_weather = []\n",
        "with open('./weather/BadenWuerttemberg.csv', 'r') as csvfile:\n",
        "        daily_weather = csv.reader(csvfile, delimiter=';')\n",
        "        for row_index, one_day in enumerate(daily_weather):\n",
        "                data_weather.append(one_day)\n"
      ]
    },
    {
      "cell_type": "code",
      "execution_count": null,
      "metadata": {
        "id": "CeY_EkF4SFi3",
        "colab": {
          "base_uri": "https://localhost:8080/"
        },
        "outputId": "2fff07a2-0fce-4725-de38-e6f4dae077d1"
      },
      "outputs": [
        {
          "output_type": "stream",
          "name": "stdout",
          "text": [
            "['Date', 'Max_TemperatureC', 'Mean_TemperatureC', 'Min_TemperatureC', 'Dew_PointC', 'MeanDew_PointC', 'Min_DewpointC', 'Max_Humidity', 'Mean_Humidity', 'Min_Humidity', 'Max_Sea_Level_PressurehPa', 'Mean_Sea_Level_PressurehPa', 'Min_Sea_Level_PressurehPa', 'Max_VisibilityKm', 'Mean_VisibilityKm', 'Min_VisibilitykM', 'Max_Wind_SpeedKm_h', 'Mean_Wind_SpeedKm_h', 'Max_Gust_SpeedKm_h', 'Precipitationmm', 'CloudCover', 'Events', 'WindDirDegrees']\n",
            "\n",
            "['2013-01-01', '8', '3', '-2', '3', '1', '-3', '93', '80', '51', '1016', '1011', '1008', '31', '12', '10', '23', '6', '42', '0.25', '6', 'Fog-Rain', '228']\n",
            "\n",
            "['2013-01-02', '6', '3', '-1', '3', '-1', '-3', '93', '77', '52', '1033', '1024', '1016', '31', '10', '10', '19', '10', 'NA', '0', '4', 'Rain', '248']\n"
          ]
        }
      ],
      "source": [
        "print(data_weather[0], end='\\n\\n')\n",
        "print(data_weather[1], end='\\n\\n')\n",
        "print(data_weather[2])"
      ]
    },
    {
      "cell_type": "markdown",
      "metadata": {
        "id": "JwO6PhW0SFi3"
      },
      "source": [
        "##### Danh sách các dạng thời tiết"
      ]
    },
    {
      "cell_type": "code",
      "execution_count": null,
      "metadata": {
        "id": "_pFcTIn4SFi3"
      },
      "outputs": [],
      "source": [
        "event_list = ['', 'Fog-Rain', 'Fog-Snow', 'Fog-Thunderstorm',\n",
        "                  'Rain-Snow-Hail-Thunderstorm', 'Rain-Snow', 'Rain-Snow-Hail',\n",
        "                  'Fog-Rain-Hail', 'Fog', 'Fog-Rain-Hail-Thunderstorm', 'Fog-Snow-Hail',\n",
        "                  'Rain-Hail', 'Rain-Hail-Thunderstorm', 'Fog-Rain-Snow', 'Rain-Thunderstorm',\n",
        "                  'Fog-Rain-Snow-Hail', 'Rain', 'Thunderstorm', 'Snow-Hail',\n",
        "                  'Rain-Snow-Thunderstorm', 'Snow', 'Fog-Rain-Thunderstorm']"
      ]
    },
    {
      "cell_type": "code",
      "execution_count": null,
      "metadata": {
        "id": "3ZfWGpKeSFi4"
      },
      "outputs": [],
      "source": [
        "import glob\n",
        "def event2int(event):\n",
        "    # chuyển các thông tin về các kiểu thời tiết sang dạng int\n",
        "    return event_list.index(event)\n",
        "\n",
        "\n",
        "def states_names_to_abbreviation(state_name):\n",
        "    # chuyển thành tên viết tắt\n",
        "    d = {}\n",
        "    d['BadenWuerttemberg'] = 'BW'\n",
        "    d['Bayern'] = 'BY'\n",
        "    d['Berlin'] = 'BE'\n",
        "    d['Brandenburg'] = 'BB'\n",
        "    d['Bremen'] = 'HB'\n",
        "    d['Hamburg'] = 'HH'\n",
        "    d['Hessen'] = 'HE'\n",
        "    d['MecklenburgVorpommern'] = 'MV'\n",
        "    d['Niedersachsen'] = 'HB,NI'\n",
        "    d['NordrheinWestfalen'] = 'NW'\n",
        "    d['RheinlandPfalz'] = 'RP'\n",
        "    d['Saarland'] = 'SL'\n",
        "    d['Sachsen'] = 'SN'\n",
        "    d['SachsenAnhalt'] = 'ST'\n",
        "    d['SchleswigHolstein'] = 'SH'\n",
        "    d['Thueringen'] = 'TH'\n",
        "\n",
        "    return d[state_name]\n",
        "\n",
        "\n",
        "csv_location = 'weather'\n",
        "german_states_weather = glob.glob(csv_location + '/*.csv')\n",
        "weather = {}\n",
        "temp_a = []\n",
        "temp_b = []\n",
        "temp_c = []\n",
        "events = []\n",
        "for one_state in german_states_weather:\n",
        "    state_name = os.path.splitext(os.path.basename(one_state))[0]\n",
        "    state_code = states_names_to_abbreviation(state_name)\n",
        "    with open(one_state, 'r') as csvfile:\n",
        "        daily_weather = csv.reader(csvfile, delimiter=';')\n",
        "        for row_index, one_day in enumerate(daily_weather):\n",
        "            if row_index == 0:\n",
        "                continue   \n",
        "            date = one_day[0]\n",
        "            key = (state_code, date)\n",
        "            temp_a.append(int(one_day[1]))\n",
        "            temp_b.append(int(one_day[2]))\n",
        "            temp_c.append(int(one_day[3]))\n",
        "            temperature = [int(one_day[1]), int(one_day[2]), int(one_day[3])] # 'Max_TemperatureC', 'Mean_TemperatureC', 'Min_TemperatureC'\n",
        "            temperature = [(x - 10) / 30 for x in temperature]  # normalize\n",
        "            humidity = [int(one_day[7]), int(one_day[8]), int(one_day[9])] # 'Max_Humidity', 'Mean_Humidity', 'Min_Humidity'\n",
        "            humidity = [(x - 50) / 50 for x in humidity]  # normalize\n",
        "            wind = [int(one_day[16]) / 50, int(one_day[17]) / 30] # 'Max_Wind_SpeedKm_h', 'Mean_Wind_SpeedKm_h'\n",
        "            if one_day[20] == 'NA':\n",
        "                cloud = [0]\n",
        "            else:\n",
        "                cloud = [int(one_day[20])]\n",
        "            event = [event2int(one_day[21])]\n",
        "            weather[key] = temperature + humidity + wind + cloud + event\n",
        "            events.append(one_day[21])\n",
        "with open('weather.pickle', 'wb') as f:\n",
        "    pickle.dump(weather, f, -1)"
      ]
    },
    {
      "cell_type": "markdown",
      "source": [
        "- `event2int()`: Tác giả thực hiện chuyển đổi các dạng thời tiết (event_list) sang dạng integer. Trong danh sách các dạng thời tiết, có 21 dạng thời tiết khác nhau, sau khi chuyển sang dạng integer thì sẽ có giá trị tương ứng từ 1 đến 21.\n",
        "- `states_names_to_abbreviation()`: Thực hiện chuyển tên các tiểu bang của nước Đức thành tên viết tắt, ví dụ như 'Bayern' -> 'BY'.\n",
        "- Cuối cùng, tác giả thực hiện việc chuẩn hóa dữ liệu của các thuộc tính như: nhiệt độ (temperature), độ ẩm (humidity), sức gió (wind), mây (cloud) và dạng thời tiết (event).\n",
        "- Input: Tác giả sử dụng dữ liệu đã được chuẩn hóa về thời tiết của các bang nước Đức.\n",
        "- Output: dữ liệu đầu ra có dạng ***((state_code, date), [temperature, humidity, wind, cloud, event])***, các dữ liệu về temperature, humidity, wind, event đều đã được chuẩn hóa, trong đó:\n",
        " - `state_code`: là tên viết tắt của tiểu bang.\n",
        " - `date`: ngày xảy ra các sự kiện.\n",
        " - `temperature`: dữ liệu về nhiệt độ, bao gồm các giá trị như nhiệt độ cao nhất (Max_TemperatureC), nhiệt độ trung bình (Mean_TemperatureC), nhiệt độ thấp nhất (Min_TemperatureC).\n",
        " - `humidity`: dữ liệu về độ ẩm, bao gồm các giá trị như độ ẩm cao nhất (Max_Humidity), độ ẩm trung bình (Mean_Humidity), độ ẩm nhỏ nhất (Min_Humidity).\n",
        " - `wind`: dữ liệu về sức gió, sức gió cao nhất (Max_Wind_SpeedKm_h), sức gió trung bình (Mean_Wind_SpeedKm_h).\n",
        " - `cloud`: dữ liệu về độ bao phủ của mây.\n",
        " - `event`: dữ liệu về dạng thời tiết"
      ],
      "metadata": {
        "id": "-Xmw3VcSxv2y"
      }
    },
    {
      "cell_type": "markdown",
      "metadata": {
        "id": "75JZ3KD-SFi4"
      },
      "source": [
        "##### Mean của nhiệt độ"
      ]
    },
    {
      "cell_type": "code",
      "execution_count": null,
      "metadata": {
        "id": "mNkjooJ_SFi4",
        "colab": {
          "base_uri": "https://localhost:8080/"
        },
        "outputId": "d8b2ba08-d8db-451a-dd25-341c61ecfea2"
      },
      "outputs": [
        {
          "output_type": "execute_result",
          "data": {
            "text/plain": [
              "10.410690235690234"
            ]
          },
          "metadata": {},
          "execution_count": 16
        }
      ],
      "source": [
        "import numpy as np\n",
        "(np.mean(temp_c) + np.mean(temp_a) + np.mean(temp_b))/3"
      ]
    },
    {
      "cell_type": "markdown",
      "metadata": {
        "id": "WFnMXpS5SFi4"
      },
      "source": [
        "##### Dữ liệu thời tiết sau khi đọc và chuyển đổi"
      ]
    },
    {
      "cell_type": "code",
      "execution_count": null,
      "metadata": {
        "id": "J1Opn9SnSFi5",
        "colab": {
          "base_uri": "https://localhost:8080/"
        },
        "outputId": "e95fb570-5d23-4087-9f26-af79d39ad27f"
      },
      "outputs": [
        {
          "output_type": "stream",
          "name": "stdout",
          "text": [
            "(('SN', '2013-01-02'), [-0.16666666666666666, -0.23333333333333334, -0.26666666666666666, 0.86, 0.56, 0.2, 0.58, 0.6, 6, 16])\n",
            "(('SN', '2013-01-03'), [-0.06666666666666667, -0.13333333333333333, -0.23333333333333334, 0.86, 0.6, 0.2, 0.7, 0.7666666666666667, 6, 16])\n",
            "(('SN', '2013-01-04'), [-0.03333333333333333, -0.06666666666666667, -0.1, 1.0, 0.74, 0.46, 0.8, 0.7666666666666667, 6, 16])\n",
            "(('SN', '2013-01-05'), [-0.1, -0.13333333333333333, -0.16666666666666666, 1.0, 0.88, 0.72, 0.7, 0.8, 7, 16])\n"
          ]
        }
      ],
      "source": [
        "print(list(weather.items())[1])\n",
        "print(list(weather.items())[2])\n",
        "print(list(weather.items())[3])\n",
        "print(list(weather.items())[4])"
      ]
    },
    {
      "cell_type": "code",
      "source": [
        "print(event_list[16])\n",
        "print(event2int(event_list[16]))"
      ],
      "metadata": {
        "id": "lVqrlyCBKaI6",
        "colab": {
          "base_uri": "https://localhost:8080/"
        },
        "outputId": "ff51a7a1-d4d8-4720-f193-aab650d9189b"
      },
      "execution_count": null,
      "outputs": [
        {
          "output_type": "stream",
          "name": "stdout",
          "text": [
            "Rain\n",
            "16\n"
          ]
        }
      ]
    },
    {
      "cell_type": "markdown",
      "metadata": {
        "id": "gI9FKAqsSFi5"
      },
      "source": [
        "#### ***1.3 Tải và dánh giá dữ liệu googletrend***\n",
        "Google trend là xu hướng của các từ khóa được search trên google theo thời gian, được người dùng kaggle tìm thấy có tương quan tốt với dữ liệu. Độ tương quan giữa Google Trend và Sales ~0.25. Chi tiết hơn tại [đây](https://www.kaggle.com/c/rossmann-store-sales/discussion/17130#post97196)"
      ]
    },
    {
      "cell_type": "code",
      "execution_count": null,
      "metadata": {
        "id": "pfPZolzRSFi5"
      },
      "outputs": [],
      "source": [
        "from datetime import datetime"
      ]
    },
    {
      "cell_type": "markdown",
      "metadata": {
        "id": "-D-UD_S9SFi5"
      },
      "source": [
        "##### Danh sách các tập tin googletrend"
      ]
    },
    {
      "cell_type": "markdown",
      "metadata": {
        "id": "NvtYDXpiSFi6"
      },
      "source": [
        "##### Một vài data mẫu"
      ]
    },
    {
      "cell_type": "code",
      "execution_count": null,
      "metadata": {
        "id": "B3snKq6WSFi6",
        "colab": {
          "base_uri": "https://localhost:8080/"
        },
        "outputId": "3a5b4705-ac72-4713-b4af-5ac094b43e57"
      },
      "outputs": [
        {
          "output_type": "stream",
          "name": "stdout",
          "text": [
            "['Woche', 'Dez. 2012 - Sep. 2015']\n",
            "['2012-12-02 - 2012-12-08', '77']\n",
            "['2012-12-09 - 2012-12-15', '76']\n"
          ]
        }
      ],
      "source": [
        "one_state = './googletrend/Rossmann_DE.csv'\n",
        "data_weather = []\n",
        "with open(one_state, 'r') as csvfile:\n",
        "        trends = csv.reader(csvfile, delimiter=',')\n",
        "        for row, trend in enumerate(trends):\n",
        "                data_weather.append(trend)\n",
        "print(data_weather[0])\n",
        "print(data_weather[1])\n",
        "print(data_weather[2])"
      ]
    },
    {
      "cell_type": "code",
      "execution_count": null,
      "metadata": {
        "id": "jjq6oRfCSFi6",
        "colab": {
          "base_uri": "https://localhost:8080/"
        },
        "outputId": "19615969-ca0e-4eae-f314-724dd246fe20"
      },
      "outputs": [
        {
          "output_type": "stream",
          "name": "stdout",
          "text": [
            "BW\n",
            "SH\n",
            "SL\n",
            "DE\n",
            "HB,NI\n",
            "TH\n",
            "BE\n",
            "HH\n",
            "ST\n",
            "RP\n",
            "NW\n",
            "BY\n",
            "SN\n",
            "HE\n",
            "2072\n"
          ]
        }
      ],
      "source": [
        "csv_location = 'googletrend'\n",
        "google_trend_files = glob.glob(csv_location + '/*.csv')\n",
        "\n",
        "google_trend = {}\n",
        "\n",
        "for one_state in google_trend_files:\n",
        "    state = os.path.splitext(os.path.basename(one_state))[0]\n",
        "    state_code = state[-2:]\n",
        "    if state_code == 'NI':\n",
        "        state_code = 'HB,NI'\n",
        "        \n",
        "    # tên viết tắt các khu vực\n",
        "    print(state_code)\n",
        "    with open(one_state, 'r') as csvfile:\n",
        "        trends = csv.reader(csvfile, delimiter=',')\n",
        "        for row, trend in enumerate(trends):\n",
        "            if row == 0:\n",
        "                continue\n",
        "            # The data is represented from Sunday till Saturday - take Saturday and check the week number\n",
        "            trend_value = int(trend[1])\n",
        "            end_day_of_range = trend[0].split(' - ')[1]\n",
        "            dt = datetime.strptime(end_day_of_range, '%Y-%m-%d')\n",
        "            year = dt.year\n",
        "            month = dt.month\n",
        "            day = dt.day\n",
        "            week_of_year = dt.isocalendar()[1]\n",
        "\n",
        "            key = (state_code, year, week_of_year)\n",
        "            google_trend[key] = trend_value / 100\n",
        "\n",
        "with open('google_trends.pickle', 'wb') as f:\n",
        "    pickle.dump(google_trend, f, -1)\n",
        "    print(len(google_trend))\n"
      ]
    },
    {
      "cell_type": "markdown",
      "metadata": {
        "id": "YQ8Vg2B8SFi7"
      },
      "source": [
        "##### Dữ liệu google trend sau khi load và xử lí"
      ]
    },
    {
      "cell_type": "code",
      "execution_count": null,
      "metadata": {
        "id": "3EvrhnDaSFi7",
        "colab": {
          "base_uri": "https://localhost:8080/"
        },
        "outputId": "0188a0bb-0c1e-49f8-e619-1d0d38510b0a"
      },
      "outputs": [
        {
          "output_type": "execute_result",
          "data": {
            "text/plain": [
              "[(('BW', 2012, 49), 0.68),\n",
              " (('BW', 2012, 50), 0.69),\n",
              " (('BW', 2012, 51), 0.71),\n",
              " (('BW', 2012, 52), 0.62)]"
            ]
          },
          "metadata": {},
          "execution_count": 22
        }
      ],
      "source": [
        "list(google_trend.items())[:4]\n",
        "#[(('state code, year, week of year'), gg_trend_value/100)]"
      ]
    },
    {
      "cell_type": "markdown",
      "metadata": {
        "id": "UKxDgOJRaWJa"
      },
      "source": [
        "### **1.4 FB_Fearure** "
      ]
    },
    {
      "cell_type": "code",
      "execution_count": null,
      "metadata": {
        "id": "EsFvWMIQbBtw"
      },
      "outputs": [],
      "source": [
        "import pandas as pd"
      ]
    },
    {
      "cell_type": "code",
      "execution_count": null,
      "metadata": {
        "id": "C7kaTbLUaVkC",
        "colab": {
          "base_uri": "https://localhost:8080/"
        },
        "outputId": "d383ccdd-5759-44f2-ac56-5de65d126c17"
      },
      "outputs": [
        {
          "output_type": "stream",
          "name": "stderr",
          "text": [
            "/usr/local/lib/python3.7/dist-packages/IPython/core/interactiveshell.py:2822: DtypeWarning: Columns (7) have mixed types.Specify dtype option on import or set low_memory=False.\n",
            "  if self.run_code(code, result):\n"
          ]
        },
        {
          "output_type": "stream",
          "name": "stdout",
          "text": [
            "Generating features for train data ...\n",
            "Generating features for test data ...\n"
          ]
        }
      ],
      "source": [
        "def generate_forward_backward_information(csv_path, window_size=14):\n",
        "    dat = pd.read_csv(csv_path)\n",
        "    columns = [\"Promo\", \"StateHoliday\", \"SchoolHoliday\"]\n",
        "\n",
        "    column_dat = np.array(dat[columns])\n",
        "    (nr_obs, nr_cols) = column_dat.shape\n",
        "    generated_features = []\n",
        "    for i in range(-window_size, window_size + 1):\n",
        "        if i == 0:\n",
        "            continue\n",
        "\n",
        "        rolled = np.roll(column_dat, i, axis=0)\n",
        "        if i < 0:\n",
        "            rolled[i:, :] = column_dat[nr_obs - 1, :]\n",
        "        else:\n",
        "            rolled[0:i, :] = column_dat[0, :]\n",
        "\n",
        "        for col in range(nr_cols):\n",
        "            generated_features.append(rolled[:, col])\n",
        "\n",
        "    return(np.array(generated_features).T)\n",
        "\n",
        "\n",
        "def generate_forward_backward_information_accumulated(data, store_id, window_size=14, only_zero=False):\n",
        "    dat_store = data[data[\"Store\"] == store_id]\n",
        "    columns = [\"Promo\", \"StateHoliday\", \"SchoolHoliday\"]\n",
        "    # columns = [\"StateHoliday\"]\n",
        "\n",
        "    column_dat = np.array(dat_store[columns], dtype=\"str\")\n",
        "    (nr_obs, nr_cols) = column_dat.shape\n",
        "    generated_features = []\n",
        "    generated_features.append([timestamp for timestamp in dat_store[\"Date\"][::-1]])\n",
        "    generated_features.append([store_id for i in range(nr_obs)])\n",
        "\n",
        "    timestamps = np.array(dat_store[\"Date\"], dtype=\"datetime64[D]\")\n",
        "    column_dat = column_dat[::-1]\n",
        "    timestamps = timestamps[::-1]\n",
        "\n",
        "    generated_feature_names = []\n",
        "    generated_feature_names.append(\"Date\")\n",
        "    generated_feature_names.append(\"Store\")\n",
        "\n",
        "    for i_col, column in enumerate(columns):\n",
        "        unique_elements = set(el for el in np.array(dat_store[column], dtype=\"str\"))\n",
        "        if only_zero:\n",
        "            unique_elements = set(\"0\")\n",
        "\n",
        "        for unique_element in unique_elements:\n",
        "            first_forward_looking = []\n",
        "            last_backward_looking = []\n",
        "            count_forward_looking = []\n",
        "            count_backward_looking = []\n",
        "            forward_looking_timestamps = smart_timestamp_accessor(timestamps)\n",
        "            backward_looking_timestamps = smart_timestamp_accessor(timestamps)\n",
        "            for i_obs in range(nr_obs):\n",
        "                timestamp = timestamps[i_obs]\n",
        "                timestamp_forward = timestamp + np.timedelta64(window_size, \"D\") #truoc 14 ngay\n",
        "                timestamp_backward = timestamp + np.timedelta64(-window_size, \"D\") #sau 14 ngay\n",
        "                index_forward = forward_looking_timestamps.compute_index_of_timestamp(timestamp_forward) #index\n",
        "                index_backward = backward_looking_timestamps.compute_index_of_timestamp(timestamp_backward) #index\n",
        "\n",
        "                if i_obs == nr_obs - 1:\n",
        "                    first_forward_looking.append(window_size + 1)\n",
        "                    count_forward_looking.append(0)\n",
        "                else:\n",
        "                    forward_looking_data = column_dat[(i_obs + 1):(index_forward + 1), i_col]\n",
        "                    forward_looking_data = forward_looking_data != unique_element\n",
        "                    nr_occurences = np.sum(forward_looking_data)\n",
        "                    if nr_occurences == 0:\n",
        "                        first_forward_looking.append(window_size + 1)\n",
        "                    else:\n",
        "                        first_forward_looking.append(np.argmax(forward_looking_data) + 1)\n",
        "                    count_forward_looking.append(nr_occurences)\n",
        "\n",
        "                if i_obs == 0:\n",
        "                    last_backward_looking.append(window_size + 1)\n",
        "                    count_backward_looking.append(0)\n",
        "                else:\n",
        "                    backward_looking_data = column_dat[index_backward:i_obs, i_col]\n",
        "                    backward_looking_data = backward_looking_data != unique_element\n",
        "                    nr_occurences = np.sum(backward_looking_data)\n",
        "                    if nr_occurences == 0:\n",
        "                        last_backward_looking.append(window_size + 1)\n",
        "                    else:\n",
        "                        last_backward_looking.append(np.argmax(backward_looking_data[::-1]) + 1)\n",
        "                    count_backward_looking.append(np.sum(backward_looking_data))\n",
        "\n",
        "            generated_features.append(first_forward_looking)\n",
        "            generated_features.append(last_backward_looking)\n",
        "            if column == \"StateHoliday\":\n",
        "                generated_features.append(count_forward_looking)\n",
        "                generated_features.append(count_backward_looking)\n",
        "\n",
        "            generated_feature_names.append(column + \"_first_forward_looking\")\n",
        "            generated_feature_names.append(column + \"_last_backward_looking\")\n",
        "            if column == \"StateHoliday\":\n",
        "                generated_feature_names.append(column + \"_count_forward_looking\")\n",
        "                generated_feature_names.append(column + \"_count_backward_looking\")\n",
        "\n",
        "    return (np.array(generated_features).T, generated_feature_names)\n",
        "\n",
        "def generate_forward_backward_accumulated_all_stores():\n",
        "    train_path = \"train.csv\"\n",
        "    test_path = \"test.csv\"\n",
        "\n",
        "    train_data = pd.read_csv(train_path)\n",
        "    test_data = pd.read_csv(test_path)\n",
        "\n",
        "    store_ids = np.unique(train_data[\"Store\"])\n",
        "\n",
        "    fb = {}\n",
        "\n",
        "    print(\"Generating features for train data ...\")\n",
        "    for store_id in store_ids:\n",
        "        (generated_features, feature_names) = generate_forward_backward_information_accumulated(\n",
        "            train_data, store_id, window_size=7, only_zero=True)\n",
        "        date_index = feature_names.index(\"Date\")\n",
        "        for row in generated_features:\n",
        "            key = (store_id, row[date_index])\n",
        "            fb[key] = row[2:]\n",
        "\n",
        "    print(\"Generating features for test data ...\")\n",
        "    for store_id in store_ids:\n",
        "        (generated_features, feature_names) = generate_forward_backward_information_accumulated(\n",
        "            test_data, store_id, window_size=7, only_zero=True)\n",
        "        date_index = feature_names.index(\"Date\")\n",
        "        for row in generated_features:\n",
        "            key = (store_id, row[date_index])\n",
        "            fb[key] = row[2:]\n",
        "\n",
        "    f = open(\"fb.pickle\", \"wb\")\n",
        "    pickle.dump(fb, f)\n",
        "\n",
        "    return fb\n",
        "\n",
        "\n",
        "class smart_timestamp_accessor(object):\n",
        "\n",
        "    def __init__(self, timestamps):\n",
        "        self.timestamps = timestamps\n",
        "        self._last_index = 0\n",
        "\n",
        "    def compute_index_of_timestamp(self, timestamp):\n",
        "        if timestamp < self.timestamps[0]:\n",
        "            return 0\n",
        "        if timestamp > self.timestamps[len(self.timestamps) - 1]:\n",
        "            return (len(self.timestamps) - 1)\n",
        "\n",
        "        if timestamp == self.timestamps[self._last_index]:\n",
        "            return self._last_index\n",
        "\n",
        "        if timestamp > self.timestamps[self._last_index]:\n",
        "            while timestamp > self.timestamps[self._last_index]:\n",
        "                self._last_index += 1\n",
        "            return self._last_index\n",
        "\n",
        "        if timestamp < self.timestamps[self._last_index]:\n",
        "            while timestamp < self.timestamps[self._last_index]:\n",
        "                self._last_index -= 1\n",
        "            return self._last_index\n",
        "\n",
        "    def get_start_end_timestamp(self):\n",
        "        timestamp_start = self.timestamps[0]\n",
        "        nr_timestamps = len(self.timestamps)\n",
        "        timestamp_end = self.timestamps[nr_timestamps - 1]\n",
        "        return (timestamp_start, timestamp_end)\n",
        "\n",
        "fb = generate_forward_backward_accumulated_all_stores()"
      ]
    },
    {
      "cell_type": "code",
      "source": [
        "list(fb.items())[:2]"
      ],
      "metadata": {
        "colab": {
          "base_uri": "https://localhost:8080/"
        },
        "id": "pfwxKYFVYtNW",
        "outputId": "522e2a97-65ee-4971-c0ac-788bed17f5f8"
      },
      "execution_count": null,
      "outputs": [
        {
          "output_type": "execute_result",
          "data": {
            "text/plain": [
              "[((1, '2013-01-01'),\n",
              "  array(['6', '8', '8', '8', '0', '0', '1', '8'], dtype='<U10')),\n",
              " ((1, '2013-01-02'),\n",
              "  array(['5', '8', '8', '1', '0', '1', '1', '1'], dtype='<U10'))]"
            ]
          },
          "metadata": {},
          "execution_count": 32
        }
      ]
    },
    {
      "cell_type": "markdown",
      "source": [
        "**FB_Feature - tạo thêm dữ liệu từ 3 thuộc tính `Promo`, `StateHoliday`, `SchoolHoliday`, lần lượt gồm:**\n",
        "1. Cách bao nhiêu ngày sẽ xảy ra `Promo` trong tuần tiếp theo.\n",
        "2. Đã qua bao nhiêu ngày kể từ lần cuối cùng `Promo` xảy ra trong một tuần.\n",
        "3. Cách bao nhiêu ngày sẽ xảy ra `StateHoliday` trong tuần tiếp theo.\n",
        "4. Đã qua bao nhiêu ngày kể từ lần cuối cùng `StateHoliday` xảy ra trong một tuần.\n",
        "5. Số lần sự kiện `StateHoliday` sẽ xảy ra trong tuần tiếp theo.\n",
        "6. Số lần sự kiện `StateHoliday` đã xảy ra trong tuần trước.\n",
        "7. Cách bao nhiêu ngày sẽ xảy ra `SchoolHoliday` trong tuần tiếp theo.\n",
        "8. Đã qua bao nhiêu ngày kể từ lần cuối cùng `SchoolHoliday` xảy ra trong vòng 1 tuần."
      ],
      "metadata": {
        "id": "6wtjdr5VPOi2"
      }
    },
    {
      "cell_type": "markdown",
      "metadata": {
        "id": "zJyK3gRAdh2V"
      },
      "source": [
        "### **1.5 Prepare_nn_features**"
      ]
    },
    {
      "cell_type": "markdown",
      "source": [
        "Danh sách các feature được chuẩn bị            \n",
        "\n",
        "1. store_open\n",
        "2. store_index\n",
        "3. day_of_week\n",
        "4. promo,\n",
        "5. year,\n",
        "6. month,\n",
        "7. day,\n",
        "8. state_holiday,\n",
        "9. school_holiday,\n",
        "10. has_competition_for_months,\n",
        "11. has_promo2_for_weeks,\n",
        "12. latest_promo2_for_months,\n",
        "13. distance\n",
        "14. StoreType\n",
        "15. Assortment\n",
        "16. PromoInterval\n",
        "17. 'CompetitionOpenSinceYear'\n",
        "18. 'Promo2SinceYear'\n",
        "19. 'State'\n",
        "20. week_of_year\n",
        "21. Max_TemperatureC\n",
        "22. Mean_TemperatureC\n",
        "23. Min_TemperatureC\n",
        "24. Max_Humidity\n",
        "25. Mean_Humidity\n",
        "26. Max_Humidity\n",
        "27. Max_Wind_SpeedKm_h\n",
        "28. Mean_Wind_SpeedKm_h\n",
        "29. Cloud\n",
        "30. weather_event\n",
        "31. promo_first_forward_looking\n",
        "32. promo_last_backward_looking\n",
        "33. stateHoliday_first_forward_looking\n",
        "34. stateHoliday_last_backward_looking\n",
        "35. stateHoliday_count_forward_looking\n",
        "36. stateHoliday_count_backward_looking\n",
        "37. schoolHoliday_first_forward_looking\n",
        "38. schoolHoliday_last_backward_looking \n",
        "39. google_trend_key_DE #Normalize (ex: 77 => 0.77)\n",
        "40. googletrend"
      ],
      "metadata": {
        "id": "RZTpyOgvU7YZ"
      }
    },
    {
      "cell_type": "code",
      "execution_count": null,
      "metadata": {
        "id": "_v5nUISFdot2"
      },
      "outputs": [],
      "source": [
        "import numpy"
      ]
    },
    {
      "cell_type": "code",
      "execution_count": null,
      "metadata": {
        "id": "C73m56V1dhuE"
      },
      "outputs": [],
      "source": [
        "def CompetitionOpenSinceYear2int(since_year_array):\n",
        "    # since_year_array is numpy array\n",
        "    since_year_array[since_year_array < 2000] = 1\n",
        "    since_year_array[since_year_array >= 2000] -= 1998\n",
        "    return since_year_array\n",
        "\n",
        "\n",
        "def split_features(X):\n",
        "    X = numpy.array(X)\n",
        "    X_list = []\n",
        "\n",
        "    store_index = X[..., [1]] - 1\n",
        "    X_list.append(store_index)\n",
        "\n",
        "    day_of_week = X[..., [2]] - 1\n",
        "    X_list.append(day_of_week)\n",
        "\n",
        "    promo = X[..., [3]]\n",
        "    X_list.append(promo)\n",
        "\n",
        "    year = X[..., [4]] - 2013\n",
        "    X_list.append(year)\n",
        "\n",
        "    month = X[..., [5]] - 1\n",
        "    X_list.append(month)\n",
        "\n",
        "    day = X[..., [6]] - 1\n",
        "    X_list.append(day)\n",
        "\n",
        "    state_holiday = X[..., [7]]\n",
        "    X_list.append(state_holiday)\n",
        "\n",
        "    school_holiday = X[..., [8]]\n",
        "    X_list.append(school_holiday)\n",
        "\n",
        "    has_competition_for_months = X[..., [9]]\n",
        "    X_list.append(has_competition_for_months)\n",
        "\n",
        "    has_promo2_for_weeks = X[..., [10]]\n",
        "    X_list.append(has_promo2_for_weeks)\n",
        "\n",
        "    latest_promo2_for_months = X[..., [11]]\n",
        "    X_list.append(latest_promo2_for_months)\n",
        "\n",
        "    log_distance = X[..., [12]]\n",
        "    X_list.append(log_distance)\n",
        "\n",
        "    StoreType = X[..., [13]]\n",
        "    X_list.append(StoreType)\n",
        "\n",
        "    Assortment = X[..., [14]]\n",
        "    X_list.append(Assortment)\n",
        "\n",
        "    PromoInterval = X[..., [15]]\n",
        "    X_list.append(PromoInterval)\n",
        "\n",
        "    CompetitionOpenSinceYear = CompetitionOpenSinceYear2int(X[..., [16]])\n",
        "    X_list.append(CompetitionOpenSinceYear)\n",
        "\n",
        "    Promo2SinceYear = X[..., [17]] - 2008\n",
        "    Promo2SinceYear[Promo2SinceYear < 0] = 0\n",
        "    X_list.append(Promo2SinceYear)\n",
        "\n",
        "    State = X[..., [18]]\n",
        "    X_list.append(State)\n",
        "\n",
        "    week_of_year = X[..., [19]] - 1\n",
        "    X_list.append(week_of_year)\n",
        "\n",
        "    temperature = X[..., [20, 21, 22]]\n",
        "    X_list.append(temperature)\n",
        "\n",
        "    humidity = X[..., [23, 24, 25]]\n",
        "    X_list.append(humidity)\n",
        "\n",
        "    wind = X[..., [26, 27]]\n",
        "    X_list.append(wind)\n",
        "\n",
        "    cloud = X[..., [28]]\n",
        "    X_list.append(cloud)\n",
        "\n",
        "    weather_event = X[..., [29]]\n",
        "    X_list.append(weather_event)\n",
        "\n",
        "    promo_first_forward_looking = X[..., [30]] - 1\n",
        "    X_list.append(promo_first_forward_looking)\n",
        "\n",
        "    promo_last_backward_looking = X[..., [31]] - 1\n",
        "    X_list.append(promo_last_backward_looking)\n",
        "\n",
        "    stateHoliday_first_forward_looking = X[..., [32]] - 1\n",
        "    X_list.append(stateHoliday_first_forward_looking)\n",
        "\n",
        "    stateHoliday_last_backward_looking = X[..., [33]] - 1\n",
        "    X_list.append(stateHoliday_last_backward_looking)\n",
        "\n",
        "    stateHoliday_count_forward_looking = X[..., [34]]\n",
        "    X_list.append(stateHoliday_count_forward_looking)\n",
        "\n",
        "    stateHoliday_count_backward_looking = X[..., [35]]\n",
        "    X_list.append(stateHoliday_count_backward_looking)\n",
        "\n",
        "    schoolHoliday_first_forward_looking = X[..., [36]] - 1\n",
        "    X_list.append(schoolHoliday_first_forward_looking)\n",
        "\n",
        "    schoolHoliday_last_backward_looking = X[..., [37]] - 1\n",
        "    X_list.append(schoolHoliday_last_backward_looking)\n",
        "\n",
        "    googletrend_DE = X[..., [38]]\n",
        "    X_list.append(googletrend_DE)\n",
        "\n",
        "    googletrend_state = X[..., [39]]\n",
        "    X_list.append(googletrend_state)\n",
        "\n",
        "    return X_list"
      ]
    },
    {
      "cell_type": "code",
      "execution_count": null,
      "metadata": {
        "id": "nqbbmdZYSFi7",
        "colab": {
          "base_uri": "https://localhost:8080/"
        },
        "outputId": "e18aea20-211f-4660-b436-c03df1c80c40"
      },
      "outputs": [
        {
          "output_type": "stream",
          "name": "stdout",
          "text": [
            "Number of train datapoints:  844338\n",
            "Number of test datapoints:  41088\n",
            "46 41551\n",
            "40 5961\n"
          ]
        }
      ],
      "source": [
        "import pickle\n",
        "from datetime import datetime\n",
        "from isoweek import Week\n",
        "import math\n",
        "\n",
        "\n",
        "with open('train_data.pickle', 'rb') as f:\n",
        "    train_data = pickle.load(f)\n",
        "    num_records = len(train_data)\n",
        "with open('test_data.pickle', 'rb') as f:\n",
        "    test_data = pickle.load(f)\n",
        "with open('store_data.pickle', 'rb') as f:\n",
        "    store_data = pickle.load(f)\n",
        "with open('weather.pickle', 'rb') as f:\n",
        "    weather = pickle.load(f)\n",
        "with open('fb.pickle', 'rb') as f:\n",
        "    fb = pickle.load(f)\n",
        "with open('google_trends.pickle', 'rb') as f:\n",
        "    googletrend = pickle.load(f)\n",
        "\n",
        "\n",
        "def abc2int(char):\n",
        "    # holiday state\n",
        "    d = {'0': 0, 'a': 1, 'b': 2, 'c': 3, 'd': 4}\n",
        "    return d[char]\n",
        "\n",
        "\n",
        "def state2int(state):\n",
        "    # chuyển state thành int\n",
        "    d = {'HB,NI': 0, 'HH': 1, 'TH': 2, 'RP': 3, 'ST': 4, 'BW': 5,\n",
        "         'SN': 6, 'BE': 7, 'HE': 8, 'SH': 9, 'BY': 10, 'NW': 11}\n",
        "    return d[state]\n",
        "\n",
        "\n",
        "def PromoInterval2int(promointerval):\n",
        "    char = promointerval[0]\n",
        "    d = {'0': 0, 'J': 1, 'F': 2, 'M': 3}\n",
        "    return d[char]\n",
        "\n",
        "\n",
        "def hasCompetitionmonths(date, CompetitionOpenSinceYear, CompetitionOpenSinceMonth):\n",
        "    if CompetitionOpenSinceYear == 0:\n",
        "        return 0\n",
        "    dt_competition_open = datetime(year=CompetitionOpenSinceYear,\n",
        "                                   month=CompetitionOpenSinceMonth,\n",
        "                                   day=15)\n",
        "    months_since_competition = (date - dt_competition_open).days // 30\n",
        "    if months_since_competition < 0:\n",
        "        return 0\n",
        "    return min(months_since_competition, 24)\n",
        "\n",
        "\n",
        "def hasPromo2weeks(date, Promo2SinceYear, Promo2SinceWeek):\n",
        "    if Promo2SinceYear == 0:\n",
        "        return 0\n",
        "    start_promo2 = Week(Promo2SinceYear, Promo2SinceWeek).monday()\n",
        "    weeks_since_promo2 = (date.date() - start_promo2).days // 7\n",
        "    if weeks_since_promo2 < 0:\n",
        "        return 0\n",
        "    return min(weeks_since_promo2, 25)\n",
        "\n",
        "\n",
        "def latest_promo2_months(date, promointerval, Promo2SinceYear, Promo2SinceWeek):\n",
        "    if not hasPromo2weeks(date, Promo2SinceYear, Promo2SinceWeek):\n",
        "        return 0\n",
        "    promo2int = PromoInterval2int(promointerval)\n",
        "    if promo2int == 0:\n",
        "        return 0\n",
        "\n",
        "    if date.month < promo2int:\n",
        "        latest_promo2_start_year = date.year - 1\n",
        "        latest_promo2_start_month = promo2int + 12 - 3\n",
        "    else:\n",
        "        latest_promo2_start_year = date.year\n",
        "        latest_promo2_start_month = ((date.month - promo2int) // 3) * 3 + promo2int\n",
        "\n",
        "    latest_promo2_start_day = datetime(year=latest_promo2_start_year,\n",
        "                                       month=latest_promo2_start_month,\n",
        "                                       day=1)\n",
        "    weeks_since_latest_promo2 = (date - latest_promo2_start_day).days // 30\n",
        "    return weeks_since_latest_promo2\n",
        "\n",
        "\n",
        "def feature_list(record):\n",
        "    dt = datetime.strptime(record['Date'], '%Y-%m-%d')\n",
        "    store_index = int(record['Store'])\n",
        "    year = dt.year\n",
        "    month = dt.month\n",
        "    day = dt.day\n",
        "    week_of_year = dt.isocalendar()[1]\n",
        "    day_of_week = int(record['DayOfWeek'])\n",
        "    try:\n",
        "        store_open = int(record['Open'])\n",
        "    except:\n",
        "        store_open = 1\n",
        "    state_holiday = abc2int(record['StateHoliday'])\n",
        "    school_holiday = int(record['SchoolHoliday'])\n",
        "    # num_customers = int(record['Customers'])\n",
        "    promo = int(record['Promo'])\n",
        "    try:\n",
        "        distance = int(store_data[store_index - 1]['CompetitionDistance'])\n",
        "    except:\n",
        "        distance = 0\n",
        "    has_competition_for_months = hasCompetitionmonths(dt,\n",
        "                                                      int(store_data[store_index - 1]['CompetitionOpenSinceYear']),\n",
        "                                                      int(store_data[store_index - 1]['CompetitionOpenSinceMonth']))\n",
        "\n",
        "    has_promo2_for_weeks = hasPromo2weeks(dt,\n",
        "                                          int(store_data[store_index - 1]['Promo2SinceYear']),\n",
        "                                          int(store_data[store_index - 1]['Promo2SinceWeek']))\n",
        "\n",
        "    latest_promo2_for_months = latest_promo2_months(dt,\n",
        "                                                    store_data[store_index - 1]['PromoInterval'],\n",
        "                                                    int(store_data[store_index - 1]['Promo2SinceYear']),\n",
        "                                                    int(store_data[store_index - 1]['Promo2SinceWeek']))\n",
        "    weather_key = (store_data[store_index - 1]['State'], record['Date'])\n",
        "    fb_key = (store_index, record['Date'])\n",
        "    google_trend_key_DE = ('DE', year, week_of_year)\n",
        "    google_trend_key_state = (store_data[store_index - 1]['State'], year, week_of_year)\n",
        "    return [store_open,\n",
        "            store_index,\n",
        "            day_of_week,\n",
        "            promo,\n",
        "            year,\n",
        "            month,\n",
        "            day,\n",
        "            state_holiday,\n",
        "            school_holiday,\n",
        "            has_competition_for_months,\n",
        "            has_promo2_for_weeks,\n",
        "            latest_promo2_for_months,\n",
        "            math.log(distance + 1) / 10,\n",
        "            abc2int(store_data[store_index - 1]['StoreType']),\n",
        "            abc2int(store_data[store_index - 1]['Assortment']),\n",
        "            PromoInterval2int(store_data[store_index - 1]['PromoInterval']),\n",
        "            int(store_data[store_index - 1]['CompetitionOpenSinceYear']),\n",
        "            int(store_data[store_index - 1]['Promo2SinceYear']),\n",
        "            state2int(store_data[store_index - 1]['State']),\n",
        "            week_of_year,\n",
        "            ] + weather[weather_key] + [int(el) for el in fb[fb_key]] + [googletrend[google_trend_key_DE], googletrend[google_trend_key_state]]\n",
        "\n",
        "\n",
        "train_data_X = []\n",
        "train_data_y = []\n",
        "for record in train_data:\n",
        "    if record['Sales'] != '0' and record['Open'] != '':\n",
        "        fl = feature_list(record)\n",
        "        train_data_X.append(fl)\n",
        "        train_data_y.append(int(record['Sales']))\n",
        "print(\"Number of train datapoints: \", len(train_data_y))\n",
        "\n",
        "test_data_X = []\n",
        "for record in test_data:\n",
        "    fl = feature_list(record)\n",
        "    test_data_X.append(fl)\n",
        "print(\"Number of test datapoints: \", len(test_data_X))\n",
        "\n",
        "print(min(train_data_y), max(train_data_y))\n",
        "\n",
        "\n",
        "with open('feature_train_data.pickle', 'wb') as f:\n",
        "    pickle.dump((train_data_X, train_data_y), f, -1)\n",
        "    print(len(train_data_X[0]), train_data_y[0])\n",
        "\n",
        "with open('feature_test_data.pickle', 'wb') as f:\n",
        "    pickle.dump(test_data_X, f, -1)\n"
      ]
    },
    {
      "cell_type": "code",
      "source": [
        "train_data_X[0]"
      ],
      "metadata": {
        "colab": {
          "base_uri": "https://localhost:8080/"
        },
        "id": "WWM6xJyWdl6J",
        "outputId": "785a58b6-1020-4681-85a6-41339eea99df"
      },
      "execution_count": null,
      "outputs": [
        {
          "output_type": "execute_result",
          "data": {
            "text/plain": [
              "[1,\n",
              " 1097,\n",
              " 2,\n",
              " 0,\n",
              " 2013,\n",
              " 1,\n",
              " 1,\n",
              " 1,\n",
              " 1,\n",
              " 24,\n",
              " 0,\n",
              " 0,\n",
              " 0.6580639137284949,\n",
              " 2,\n",
              " 2,\n",
              " 0,\n",
              " 2002,\n",
              " 0,\n",
              " 3,\n",
              " 1,\n",
              " -0.06666666666666667,\n",
              " -0.13333333333333333,\n",
              " -0.2,\n",
              " 0.84,\n",
              " 0.5,\n",
              " 0.18,\n",
              " 0.52,\n",
              " 0.6333333333333333,\n",
              " 8,\n",
              " 16,\n",
              " 6,\n",
              " 8,\n",
              " 8,\n",
              " 8,\n",
              " 0,\n",
              " 0,\n",
              " 1,\n",
              " 8,\n",
              " 0.61,\n",
              " 0.36]"
            ]
          },
          "metadata": {},
          "execution_count": 43
        }
      ]
    },
    {
      "cell_type": "code",
      "source": [
        "#giá trị sales\n",
        "train_data_y[0]"
      ],
      "metadata": {
        "colab": {
          "base_uri": "https://localhost:8080/"
        },
        "id": "G7fBZSOFeq9P",
        "outputId": "2ccfea4a-28b0-48e0-a10f-494a0b15c227"
      },
      "execution_count": null,
      "outputs": [
        {
          "output_type": "execute_result",
          "data": {
            "text/plain": [
              "5961"
            ]
          },
          "metadata": {},
          "execution_count": 48
        }
      ]
    },
    {
      "cell_type": "markdown",
      "metadata": {
        "id": "ARFf_vPmSFi9"
      },
      "source": [
        "# **2. Models**"
      ]
    },
    {
      "cell_type": "markdown",
      "source": [
        "Hầu hết các model ở layer 1 là entity embedded\n",
        "\n"
      ],
      "metadata": {
        "id": "6Ut1bxWBDuWn"
      }
    },
    {
      "cell_type": "code",
      "source": [
        "from sklearn.preprocessing import StandardScaler\n",
        "from keras.layers.core import Dense, Dropout, Activation, Reshape\n",
        "from keras.layers.core import Merge\n",
        "from keras.layers.embeddings import Embedding\n",
        "from keras.callbacks import ModelCheckpoint\n",
        "from keras.models import Sequential\n",
        "import tensorflow.compat.v1 as tf\n",
        "tf.disable_v2_behavior()"
      ],
      "metadata": {
        "id": "lmUjJ7nT154E"
      },
      "execution_count": null,
      "outputs": []
    },
    {
      "cell_type": "code",
      "execution_count": null,
      "metadata": {
        "id": "ZXq9LwQCSFi-"
      },
      "outputs": [],
      "source": [
        "class Model(object):\n",
        "\n",
        "    def __init__(self, train_ratio):\n",
        "        self.train_ratio = train_ratio\n",
        "        self.__load_data()\n",
        "\n",
        "    def evaluate(self):\n",
        "        if self.train_ratio == 1:\n",
        "            return 0\n",
        "        total_sqe = 0\n",
        "        num_real_test = 0\n",
        "        for record, sales in zip(self.X_val, self.y_val):\n",
        "            if sales == 0:\n",
        "                continue\n",
        "            guessed_sales = self.guess(record)\n",
        "            sqe = ((sales - guessed_sales) / sales) ** 2\n",
        "            total_sqe += sqe\n",
        "            num_real_test += 1\n",
        "        result = math.sqrt(total_sqe / num_real_test)\n",
        "        return result\n",
        "\n",
        "    def __load_data(self):\n",
        "        f = open('feature_train_data.pickle', 'rb')\n",
        "        (self.X, self.y) = pickle.load(f)\n",
        "        self.X = numpy.array(self.X)\n",
        "        self.y = numpy.array(self.y)\n",
        "        self.num_records = len(self.X)\n",
        "        self.train_size = int(self.train_ratio * self.num_records)\n",
        "        self.test_size = self.num_records - self.train_size\n",
        "        self.X, self.X_val = self.X[:self.train_size], self.X[self.train_size:]\n",
        "        self.y, self.y_val = self.y[:self.train_size], self.y[self.train_size:]\n",
        "\n",
        "\n",
        "class NN_with_EntityEmbedding(Model):\n",
        "\n",
        "    def __init__(self, train_ratio):\n",
        "        super().__init__(train_ratio)\n",
        "        self.build_preprocessor(self.X)\n",
        "        self.nb_epoch = 20\n",
        "        self.checkpointer = ModelCheckpoint(filepath=\"best_model_weights.hdf5\", verbose=1, save_best_only=True)\n",
        "        self.max_log_y = numpy.max(numpy.log(self.y))\n",
        "        self.min_log_y = numpy.min(numpy.log(self.y))\n",
        "        self.__build_keras_model()\n",
        "        self.fit()\n",
        "\n",
        "    def build_preprocessor(self, X):\n",
        "        X_list = split_features(X)\n",
        "        # Google trend de\n",
        "        self.gt_de_enc = StandardScaler()\n",
        "        self.gt_de_enc.fit(X_list[32])\n",
        "        # Google trend state\n",
        "        self.gt_state_enc = StandardScaler()\n",
        "        self.gt_state_enc.fit(X_list[33])\n",
        "\n",
        "    def preprocessing(self, X):\n",
        "        X_list = split_features(X)\n",
        "        X_list[32] = self.gt_de_enc.transform(X_list[32])\n",
        "        X_list[33] = self.gt_state_enc.transform(X_list[33])\n",
        "        return X_list\n",
        "\n",
        "    def __build_keras_model(self):\n",
        "        models = []\n",
        "\n",
        "        model_store = Sequential()\n",
        "        model_store.add(Embedding(1115, 50, input_length=1))\n",
        "        model_store.add(Reshape(target_shape=(50,)))\n",
        "        models.append(model_store)\n",
        "\n",
        "        model_dow = Sequential()\n",
        "        model_dow.add(Embedding(7, 6, input_length=1))\n",
        "        model_dow.add(Reshape(target_shape=(6,)))\n",
        "        models.append(model_dow)\n",
        "\n",
        "        model_promo = Sequential()\n",
        "        model_promo.add(Dense(1, input_dim=1))\n",
        "        models.append(model_promo)\n",
        "\n",
        "        model_year = Sequential()\n",
        "        model_year.add(Embedding(3, 2, input_length=1))\n",
        "        model_year.add(Reshape(target_shape=(2,)))\n",
        "        models.append(model_year)\n",
        "\n",
        "        model_month = Sequential()\n",
        "        model_month.add(Embedding(12, 6, input_length=1))\n",
        "        model_month.add(Reshape(target_shape=(6,)))\n",
        "        models.append(model_month)\n",
        "\n",
        "        model_day = Sequential()\n",
        "        model_day.add(Embedding(31, 10, input_length=1))\n",
        "        model_day.add(Reshape(target_shape=(10,)))\n",
        "        models.append(model_day)\n",
        "\n",
        "        model_stateholiday = Sequential()\n",
        "        model_stateholiday.add(Embedding(4, 3, input_length=1))\n",
        "        model_stateholiday.add(Reshape(target_shape=(3,)))\n",
        "        models.append(model_stateholiday)\n",
        "\n",
        "        model_school = Sequential()\n",
        "        model_school.add(Dense(1, input_dim=1))\n",
        "        models.append(model_school)\n",
        "\n",
        "        model_competemonths = Sequential()\n",
        "        model_competemonths.add(Embedding(25, 2, input_length=1))\n",
        "        model_competemonths.add(Reshape(target_shape=(2,)))\n",
        "        models.append(model_competemonths)\n",
        "\n",
        "        model_promo2weeks = Sequential()\n",
        "        model_promo2weeks.add(Embedding(26, 1, input_length=1))\n",
        "        model_promo2weeks.add(Reshape(target_shape=(1,)))\n",
        "        models.append(model_promo2weeks)\n",
        "\n",
        "        model_lastestpromo2months = Sequential()\n",
        "        model_lastestpromo2months.add(Embedding(4, 1, input_length=1))\n",
        "        model_lastestpromo2months.add(Reshape(target_shape=(1,)))\n",
        "        models.append(model_lastestpromo2months)\n",
        "\n",
        "        model_distance = Sequential()\n",
        "        model_distance.add(Dense(1, input_dim=1))\n",
        "        models.append(model_distance)\n",
        "\n",
        "        model_storetype = Sequential()\n",
        "        model_storetype.add(Embedding(5, 2, input_length=1))\n",
        "        model_storetype.add(Reshape(target_shape=(2,)))\n",
        "        models.append(model_storetype)\n",
        "\n",
        "        model_assortment = Sequential()\n",
        "        model_assortment.add(Embedding(4, 3, input_length=1))\n",
        "        model_assortment.add(Reshape(target_shape=(3,)))\n",
        "        models.append(model_assortment)\n",
        "\n",
        "        model_promointerval = Sequential()\n",
        "        model_promointerval.add(Embedding(4, 3, input_length=1))\n",
        "        model_promointerval.add(Reshape(target_shape=(3,)))\n",
        "        models.append(model_promointerval)\n",
        "\n",
        "        model_competyear = Sequential()\n",
        "        model_competyear.add(Embedding(18, 4, input_length=1))\n",
        "        model_competyear.add(Reshape(target_shape=(4,)))\n",
        "        models.append(model_competyear)\n",
        "\n",
        "        model_promotyear = Sequential()\n",
        "        model_promotyear.add(Embedding(8, 4, input_length=1))\n",
        "        model_promotyear.add(Reshape(target_shape=(4,)))\n",
        "        models.append(model_promotyear)\n",
        "\n",
        "        model_germanstate = Sequential()\n",
        "        model_germanstate.add(Embedding(12, 6, input_length=1))\n",
        "        model_germanstate.add(Reshape(target_shape=(6,)))\n",
        "        models.append(model_germanstate)\n",
        "\n",
        "        model_woy = Sequential()\n",
        "        model_woy.add(Embedding(53, 2, input_length=1))\n",
        "        model_woy.add(Reshape(target_shape=(2,)))\n",
        "        models.append(model_woy)\n",
        "\n",
        "        model_temperature = Sequential()\n",
        "        model_temperature.add(Dense(3, input_dim=3))\n",
        "        models.append(model_temperature)\n",
        "\n",
        "        model_humidity = Sequential()\n",
        "        model_humidity.add(Dense(3, input_dim=3))\n",
        "        models.append(model_humidity)\n",
        "\n",
        "        model_wind = Sequential()\n",
        "        model_wind.add(Dense(2, input_dim=2))\n",
        "        models.append(model_wind)\n",
        "\n",
        "        model_cloud = Sequential()\n",
        "        model_cloud.add(Dense(1, input_dim=1))\n",
        "        models.append(model_cloud)\n",
        "\n",
        "        model_weatherevent = Sequential()\n",
        "        model_weatherevent.add(Embedding(22, 4, input_length=1))\n",
        "        model_weatherevent.add(Reshape(target_shape=(4,)))\n",
        "        models.append(model_weatherevent)\n",
        "\n",
        "        model_promo_forward = Sequential()\n",
        "        model_promo_forward.add(Embedding(8, 1, input_length=1))\n",
        "        model_promo_forward.add(Reshape(target_shape=(1,)))\n",
        "        models.append(model_promo_forward)\n",
        "\n",
        "        model_promo_backward = Sequential()\n",
        "        model_promo_backward.add(Embedding(8, 1, input_length=1))\n",
        "        model_promo_backward.add(Reshape(target_shape=(1,)))\n",
        "        models.append(model_promo_backward)\n",
        "\n",
        "        model_stateholiday_forward = Sequential()\n",
        "        model_stateholiday_forward.add(Embedding(8, 1, input_length=1))\n",
        "        model_stateholiday_forward.add(Reshape(target_shape=(1,)))\n",
        "        models.append(model_stateholiday_forward)\n",
        "\n",
        "        model_sateholiday_backward = Sequential()\n",
        "        model_sateholiday_backward.add(Embedding(8, 1, input_length=1))\n",
        "        model_sateholiday_backward.add(Reshape(target_shape=(1,)))\n",
        "        models.append(model_sateholiday_backward)\n",
        "\n",
        "        model_stateholiday_count_forward = Sequential()\n",
        "        model_stateholiday_count_forward.add(Embedding(3, 1, input_length=1))\n",
        "        model_stateholiday_count_forward.add(Reshape(target_shape=(1,)))\n",
        "        models.append(model_stateholiday_count_forward)\n",
        "\n",
        "        model_stateholiday_count_backward = Sequential()\n",
        "        model_stateholiday_count_backward.add(Embedding(3, 1, input_length=1))\n",
        "        model_stateholiday_count_backward.add(Reshape(target_shape=(1,)))\n",
        "        models.append(model_stateholiday_count_backward)\n",
        "\n",
        "        model_schoolholiday_forward = Sequential()\n",
        "        model_schoolholiday_forward.add(Embedding(8, 1, input_length=1))\n",
        "        model_schoolholiday_forward.add(Reshape(target_shape=(1,)))\n",
        "        models.append(model_schoolholiday_forward)\n",
        "\n",
        "        model_schoolholiday_backward = Sequential()\n",
        "        model_schoolholiday_backward.add(Embedding(8, 1, input_length=1))\n",
        "        model_schoolholiday_backward.add(Reshape(target_shape=(1,)))\n",
        "        models.append(model_schoolholiday_backward)\n",
        "\n",
        "        model_googletrend_de = Sequential()\n",
        "        model_googletrend_de.add(Dense(1, input_dim=1))\n",
        "        models.append(model_googletrend_de)\n",
        "\n",
        "        model_googletrend_state = Sequential()\n",
        "        model_googletrend_state.add(Dense(1, input_dim=1))\n",
        "        models.append(model_googletrend_state)\n",
        "\n",
        "        # model_weather = Sequential()\n",
        "        # model_weather.add(Merge([model_temperature, model_humidity, model_wind, model_weatherevent], mode='concat'))\n",
        "        # model_weather.add(Dense(1))\n",
        "        # model_weather.add(Activation('relu'))\n",
        "        # models.append(model_weather)\n",
        "\n",
        "        self.model = Sequential()\n",
        "        self.model.add(Merge(models, mode='concat'))\n",
        "        self.model.add(Dropout(0.02))\n",
        "        self.model.add(Dense(1000, init='uniform'))\n",
        "        self.model.add(Activation('relu'))\n",
        "        self.model.add(Dense(500, init='uniform'))\n",
        "        self.model.add(Activation('relu'))\n",
        "        self.model.add(Dense(1))\n",
        "        self.model.add(Activation('sigmoid'))\n",
        "\n",
        "        self.model.compile(loss='mean_absolute_error', optimizer='adam')\n",
        "\n",
        "    def _val_for_fit(self, val):\n",
        "        val = numpy.log(val) / self.max_log_y\n",
        "        return val\n",
        "\n",
        "    def _val_for_pred(self, val):\n",
        "        return numpy.exp(val * self.max_log_y)\n",
        "\n",
        "    def fit(self):\n",
        "        if self.train_ratio < 1:\n",
        "            self.model.fit(self.preprocessing(self.X), self._val_for_fit(self.y),\n",
        "                           validation_data=(self.preprocessing(self.X_val), self._val_for_fit(self.y_val)),\n",
        "                           nb_epoch=self.nb_epoch, batch_size=128,\n",
        "                           # callbacks=[self.checkpointer],\n",
        "                           )\n",
        "            # self.model.load_weights('best_model_weights.hdf5')\n",
        "            print(\"Result on validation data: \", self.evaluate())\n",
        "        else:\n",
        "            self.model.fit(self.preprocessing(self.X), self._val_for_fit(self.y),\n",
        "                           nb_epoch=self.nb_epoch, batch_size=128)\n",
        "\n",
        "    def guess(self, feature):\n",
        "        feature = numpy.array(feature).reshape(1, -1)\n",
        "        return self._val_for_pred(self.model.predict(self.preprocessing(feature)))[0][0]"
      ]
    },
    {
      "cell_type": "markdown",
      "metadata": {
        "id": "RjLRIf0zSFi_"
      },
      "source": [
        "# **3. Test model**"
      ]
    },
    {
      "cell_type": "markdown",
      "metadata": {
        "id": "i7Rb-hmNSFi_"
      },
      "source": [
        "Tác giả sử dụng số lượng các mạng NN là `num_network = 10` và `train_ratio = 1`"
      ]
    },
    {
      "cell_type": "markdown",
      "source": [
        "Khi thử nhiều version của pickle thì nhóm vẫn không save và load model được. Có thể do version của python hiện tại khác với version khi tác giả chạy model."
      ],
      "metadata": {
        "id": "kGfxXYyzyiAi"
      }
    },
    {
      "cell_type": "code",
      "execution_count": null,
      "metadata": {
        "id": "fEUBqk-kSFi_"
      },
      "outputs": [],
      "source": [
        "# from models_temp import NN_with_EntityEmbedding\n",
        "import math\n",
        "import numpy\n",
        "import sys\n",
        "#import pickle\n",
        "#import pickle5 as pickle\n",
        "sys.setrecursionlimit(10000)\n",
        "num_networks = 1\n",
        "train_ratio = 0.97\n",
        "\n",
        "with open('feature_train_data.pickle', 'rb') as f:\n",
        "    X, y = pickle.load(f)\n",
        "    num_records = len(y)\n",
        "\n",
        "models = []\n",
        "for i in range(num_networks):\n",
        "    print(\"Fitting NN_with_EntityEmbedding...\")\n",
        "    models.append(NN_with_EntityEmbedding(train_ratio))\n",
        "\n",
        "#with open('models.pickle', 'wb') as f:\n",
        "#    pickle.dump(models, f, -1)\n",
        "\n",
        "def evaluate_models(models, num_records):\n",
        "    model0 = models[0]\n",
        "    total_sqe = 0\n",
        "    num_real_test = 0\n",
        "    if model0.train_ratio == 1:\n",
        "        return 0\n",
        "    for i in range(model0.train_size, num_records):\n",
        "        record = X[i]\n",
        "        sales = y[i]\n",
        "        if sales == 0:\n",
        "            continue\n",
        "        guessed_sales = numpy.mean([model.guess(record) for model in models])\n",
        "        sqe = ((sales - guessed_sales) / sales) ** 2\n",
        "        total_sqe += sqe\n",
        "        num_real_test += 1\n",
        "        if num_real_test % 1000 == 0:\n",
        "            print(\"{}/{}\".format(num_real_test, num_records - model0.train_size))\n",
        "            print(sales, guessed_sales)\n",
        "    result = math.sqrt(total_sqe / num_real_test)\n",
        "    return result\n",
        "\n",
        "print(\"Evaluate combined models...\")\n",
        "r = evaluate_models(models, num_records)\n",
        "print(r)\n",
        "with open('feature_test_data.pickle', 'rb') as f:\n",
        "    test_X = pickle.load(f)\n",
        "\n",
        "with open('predictions.csv', 'w') as f:\n",
        "    f.write('Id,Sales\\n')\n",
        "    for i, record in enumerate(test_X):\n",
        "        store_open = record[0]\n",
        "        guessed_sales = numpy.mean([model.guess(record) for model in models]) if store_open else 0\n",
        "        f.write('{},{}\\n'.format(i+1, guessed_sales))"
      ]
    },
    {
      "cell_type": "markdown",
      "metadata": {
        "id": "tCOgcu0DSFi_"
      },
      "source": [
        "# **4. Đánh giá kết quả**"
      ]
    },
    {
      "cell_type": "markdown",
      "source": [
        "mạng NN là `num_network = 10` và `train_ratio = 1`"
      ],
      "metadata": {
        "id": "bMHBPvXUDflP"
      }
    },
    {
      "cell_type": "markdown",
      "source": [
        "Chúng ta thấy kết quả của model nó tiệm cận với kết quả của tác giả."
      ],
      "metadata": {
        "id": "gMN410rYydwT"
      }
    },
    {
      "cell_type": "markdown",
      "source": [
        "![Screenshot 2021-12-30 085223.png](data:image/png;base64,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)"
      ],
      "metadata": {
        "id": "aXRVkbmeCVs6"
      }
    },
    {
      "cell_type": "markdown",
      "source": [
        "![Screenshot 2021-12-30 090359.png](data:image/png;base64,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)"
      ],
      "metadata": {
        "id": "j-0RN9rHFKUN"
      }
    },
    {
      "cell_type": "markdown",
      "source": [
        "# 5.Nhìn lại quá trình làm đồ án"
      ],
      "metadata": {
        "id": "PrRnxeL9s8wZ"
      }
    },
    {
      "cell_type": "markdown",
      "source": [
        "\n",
        " **Khó khăn của nhóm**\n",
        "*   Vỡ kế hoạch cải tiến model khi mà không đủ thời gian để làm việc nhóm khi lịch trình mỗi người khác nhau cũng như cần khá nhiều kiến thức để làm một model khác với model gốc của tác giả.\n",
        "*   Ban đầu chỉ có 1 bạn là hiểu biết về neural network, nên cần nhiều thời gian hơn.  \n",
        "*   Việc thực hiện nhóm chưa được suông sẻ\n",
        "\n"
      ],
      "metadata": {
        "id": "5wa5mT2-tHDn"
      }
    },
    {
      "cell_type": "markdown",
      "source": [
        " **Lợi ích mang lại khi hoàn thành đồ án**\n",
        "* Hiểu rõ hơn về kaggle khi mà chúng ta biết cách để thực hiện commit hay train một model trên kaggle, cũng như cách mà cuộc thi trên kaggle diễn ra như thế nào.\n",
        "* Trong quá trình phản biện thì học được cái mới của những model của ngôn ngữ tự nhiên như là BERT hay bên học thống kê.\n",
        "* Hiểu biết về cách code 1 model neural network với keras."
      ],
      "metadata": {
        "id": "Pk4Krm9JulSF"
      }
    },
    {
      "cell_type": "markdown",
      "source": [
        "# 6.Tài Liệu Tham Khảo"
      ],
      "metadata": {
        "id": "KsCY1CPIzHOy"
      }
    },
    {
      "cell_type": "markdown",
      "source": [
        "[Entity Embedding Paper](https://arxiv.org/pdf/1604.06737.pdf)  \n",
        "[Source Code của tác giả ](https://github.com/entron/entity-embedding-rossmann/tree/kaggle)\n"
      ],
      "metadata": {
        "id": "68XutTu7zLpp"
      }
    }
  ],
  "metadata": {
    "colab": {
      "collapsed_sections": [
        "75JZ3KD-SFi4"
      ],
      "name": "main.ipynb",
      "provenance": [],
      "toc_visible": true,
      "include_colab_link": true
    },
    "interpreter": {
      "hash": "183bbf6827d058c2a2fb0f4acdc0420849dda2b4380af0e437e38c64d798d8b7"
    },
    "kernelspec": {
      "display_name": "Python 3 (ipykernel)",
      "language": "python",
      "name": "python3"
    },
    "language_info": {
      "codemirror_mode": {
        "name": "ipython",
        "version": 3
      },
      "file_extension": ".py",
      "mimetype": "text/x-python",
      "name": "python",
      "nbconvert_exporter": "python",
      "pygments_lexer": "ipython3",
      "version": "3.8.8"
    },
    "toc-autonumbering": false
  },
  "nbformat": 4,
  "nbformat_minor": 0
}